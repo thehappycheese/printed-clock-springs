{
 "cells": [
  {
   "cell_type": "code",
   "execution_count": null,
   "id": "1851c18a",
   "metadata": {},
   "outputs": [],
   "source": [
    "import numpy as np\n",
    "from util import (\n",
    "    numpy as springn,\n",
    "    sympy as springs,\n",
    ")\n",
    "from util.sympy_utils import get_first_float\n",
    "from sympy import symbols, pi, Eq, solve\n",
    "import pandas as pd"
   ]
  },
  {
   "cell_type": "code",
   "execution_count": null,
   "id": "bb239092",
   "metadata": {},
   "outputs": [],
   "source": [
    "# Define symbolic variables\n",
    "N, kg, g, m, mm, rad, deg = symbols('N kg g m mm rad deg', real=True, positive=True)\n",
    "\n",
    "mm_per_m = 1000 * mm / m\n",
    "deg_per_rad = 180/float(pi) * deg/rad\n",
    "g_per_kg = 1000 * g / kg\n",
    "N_per_kg = 9.8 * N / kg\n",
    "Pa = N/m**2"
   ]
  },
  {
   "cell_type": "code",
   "execution_count": null,
   "id": "59a78a99",
   "metadata": {},
   "outputs": [],
   "source": [
    "dat = pd.DataFrame.from_records([\n",
    "    {\"instance\":\"double_arm\", \"arms\":2, \"turns\":3, \"thickness\":0.00065*m*2, \"measured_angle\":     45*deg, \"measured_force\":0.006*kg, \"strip_width\":0.009*m},\n",
    "    {\"instance\":\"double_arm\", \"arms\":2, \"turns\":3, \"thickness\":0.00065*m*2, \"measured_angle\":     90*deg, \"measured_force\":0.011*kg, \"strip_width\":0.009*m},\n",
    "    {\"instance\":\"double_arm\", \"arms\":2, \"turns\":3, \"thickness\":0.00065*m*2, \"measured_angle\":    135*deg, \"measured_force\":0.014*kg, \"strip_width\":0.009*m},\n",
    "    {\"instance\":\"double_arm\", \"arms\":2, \"turns\":3, \"thickness\":0.00065*m*2, \"measured_angle\":    180*deg, \"measured_force\":0.017*kg, \"strip_width\":0.009*m},\n",
    "    {\"instance\":\"double_arm\", \"arms\":2, \"turns\":3, \"thickness\":0.00065*m*2, \"measured_angle\":    270*deg, \"measured_force\":0.028*kg, \"strip_width\":0.009*m},\n",
    "    {\"instance\":\"double_arm\", \"arms\":2, \"turns\":3, \"thickness\":0.00065*m*2, \"measured_angle\":    360*deg, \"measured_force\":0.036*kg, \"strip_width\":0.009*m},\n",
    "    {\"instance\":\"double_arm\", \"arms\":2, \"turns\":3, \"thickness\":0.00065*m*2, \"measured_angle\":    450*deg, \"measured_force\":0.049*kg, \"strip_width\":0.009*m},\n",
    "    {\"instance\":\"double_arm\", \"arms\":2, \"turns\":3, \"thickness\":0.00065*m*2, \"measured_angle\":    540*deg, \"measured_force\":0.060*kg, \"strip_width\":0.009*m},\n",
    "    {\"instance\":\"single_arm\", \"arms\":1, \"turns\":5, \"thickness\":0.00065*m*3, \"measured_angle\":     45*deg, \"measured_force\":0.004*kg, \"strip_width\":0.009*m},\n",
    "    {\"instance\":\"single_arm\", \"arms\":1, \"turns\":5, \"thickness\":0.00065*m*3, \"measured_angle\":     90*deg, \"measured_force\":0.008*kg, \"strip_width\":0.009*m},\n",
    "    {\"instance\":\"single_arm\", \"arms\":1, \"turns\":5, \"thickness\":0.00065*m*3, \"measured_angle\":    135*deg, \"measured_force\":0.012*kg, \"strip_width\":0.009*m},\n",
    "    {\"instance\":\"single_arm\", \"arms\":1, \"turns\":5, \"thickness\":0.00065*m*3, \"measured_angle\":    180*deg, \"measured_force\":0.017*kg, \"strip_width\":0.009*m},\n",
    "    {\"instance\":\"single_arm\", \"arms\":1, \"turns\":5, \"thickness\":0.00065*m*3, \"measured_angle\":    270*deg, \"measured_force\":0.024*kg, \"strip_width\":0.009*m},\n",
    "    {\"instance\":\"single_arm\", \"arms\":1, \"turns\":5, \"thickness\":0.00065*m*3, \"measured_angle\":    360*deg, \"measured_force\":0.032*kg, \"strip_width\":0.009*m},\n",
    "    {\"instance\":\"single_arm\", \"arms\":1, \"turns\":5, \"thickness\":0.00065*m*3, \"measured_angle\":    720*deg, \"measured_force\":0.065*kg, \"strip_width\":0.009*m},\n",
    "\n",
    "    {\"instance\":\"single_arm_2\", \"arms\":1, \"turns\":4, \"thickness\":0.00065*m*3, \"measured_angle\":   45*deg, \"measured_force\":0.004*kg, \"strip_width\":0.009*m},\n",
    "    {\"instance\":\"single_arm_2\", \"arms\":1, \"turns\":4, \"thickness\":0.00065*m*3, \"measured_angle\":   90*deg, \"measured_force\":0.008*kg, \"strip_width\":0.009*m},\n",
    "    {\"instance\":\"single_arm_2\", \"arms\":1, \"turns\":4, \"thickness\":0.00065*m*3, \"measured_angle\":  135*deg, \"measured_force\":0.012*kg, \"strip_width\":0.009*m},\n",
    "    {\"instance\":\"single_arm_2\", \"arms\":1, \"turns\":4, \"thickness\":0.00065*m*3, \"measured_angle\":  180*deg, \"measured_force\":0.018*kg, \"strip_width\":0.009*m},\n",
    "    {\"instance\":\"single_arm_2\", \"arms\":1, \"turns\":4, \"thickness\":0.00065*m*3, \"measured_angle\":  360*deg, \"measured_force\":0.040*kg, \"strip_width\":0.009*m},\n",
    "    {\"instance\":\"single_arm_2\", \"arms\":1, \"turns\":4, \"thickness\":0.00065*m*3, \"measured_angle\":  720*deg, \"measured_force\":0.085*kg, \"strip_width\":0.009*m},\n",
    "\n",
    "    {\"instance\":\"single_arm_3\", \"arms\":1, \"turns\":4, \"thickness\":0.00065*m*3, \"measured_angle\":   45*deg, \"measured_force\":0.002*kg, \"strip_width\":0.0043*m},\n",
    "    {\"instance\":\"single_arm_3\", \"arms\":1, \"turns\":4, \"thickness\":0.00065*m*3, \"measured_angle\":   90*deg, \"measured_force\":0.004*kg, \"strip_width\":0.0043*m},\n",
    "    {\"instance\":\"single_arm_3\", \"arms\":1, \"turns\":4, \"thickness\":0.00065*m*3, \"measured_angle\":  135*deg, \"measured_force\":0.006*kg, \"strip_width\":0.0043*m},\n",
    "    {\"instance\":\"single_arm_3\", \"arms\":1, \"turns\":4, \"thickness\":0.00065*m*3, \"measured_angle\":  180*deg, \"measured_force\":0.009*kg, \"strip_width\":0.0043*m},\n",
    "    {\"instance\":\"single_arm_3\", \"arms\":1, \"turns\":4, \"thickness\":0.00065*m*3, \"measured_angle\":  360*deg, \"measured_force\":0.019*kg, \"strip_width\":0.0043*m},\n",
    "    {\"instance\":\"single_arm_3\", \"arms\":1, \"turns\":4, \"thickness\":0.00065*m*3, \"measured_angle\":  720*deg, \"measured_force\":0.040*kg, \"strip_width\":0.0043*m},\n",
    "\n",
    "    {\"instance\":\"single_arm_4\", \"arms\":1, \"turns\":4, \"thickness\":0.00065*m*4, \"measured_angle\":  45*deg, \"measured_force\":0.011*kg, \"strip_width\":0.009*m},\n",
    "    {\"instance\":\"single_arm_4\", \"arms\":1, \"turns\":4, \"thickness\":0.00065*m*4, \"measured_angle\":  90*deg, \"measured_force\":0.020*kg, \"strip_width\":0.009*m},\n",
    "    {\"instance\":\"single_arm_4\", \"arms\":1, \"turns\":4, \"thickness\":0.00065*m*4, \"measured_angle\": 135*deg, \"measured_force\":0.030*kg, \"strip_width\":0.009*m},\n",
    "    {\"instance\":\"single_arm_4\", \"arms\":1, \"turns\":4, \"thickness\":0.00065*m*4, \"measured_angle\": 180*deg, \"measured_force\":0.046*kg, \"strip_width\":0.009*m},\n",
    "    {\"instance\":\"single_arm_4\", \"arms\":1, \"turns\":4, \"thickness\":0.00065*m*4, \"measured_angle\": 360*deg, \"measured_force\":0.090*kg, \"strip_width\":0.009*m},\n",
    "])\n",
    "\n",
    "dat[\"measured_lever_arm_length\"] = 0.27*m\n",
    "dat[\"measured_torque\"] = dat[\"measured_force\"] * N_per_kg * dat[\"measured_lever_arm_length\"]\n",
    "dat[\"radius_inner\"] = 0.010*m\n",
    "dat[\"radius_outer\"] = 0.050*m\n",
    "#dat[\"estimated_youngs_modulus\"] =3.5e9 * Pa\n",
    "dat[\"estimated_youngs_modulus\"] =2.2e9 * Pa\n",
    "dat[\"active_length\"] = dat.apply(lambda row: springs.spring_active_length(row[\"radius_inner\"], row[\"radius_outer\"], row[\"turns\"]).evalf(), axis=1)\n",
    "dat[\"spring_constant\"] = dat.apply(lambda row: springs.spring_constant(\n",
    "    row[\"estimated_youngs_modulus\"],\n",
    "    row[\"strip_width\"],\n",
    "    row[\"thickness\"],\n",
    "    row[\"active_length\"],\n",
    ") / rad * row[\"arms\"], axis=1)\n",
    "dat[\"expected_torque\"] = dat[\"spring_constant\"] * dat[\"measured_angle\"]/deg_per_rad\n",
    "dat"
   ]
  },
  {
   "cell_type": "code",
   "execution_count": null,
   "id": "cba48520",
   "metadata": {},
   "outputs": [],
   "source": [
    "from sklearn.linear_model import LinearRegression"
   ]
  },
  {
   "cell_type": "code",
   "execution_count": null,
   "id": "668c1696",
   "metadata": {},
   "outputs": [],
   "source": [
    "m = dat.map(get_first_float).set_index([\"measured_angle\",\"instance\"]).unstack()[\"measured_torque\"][\"single_arm\"].dropna()\n",
    "x = LinearRegression().fit(m.index.to_series().to_frame(), m.to_frame())\n",
    "a = pd.Series(np.linspace(0,720), name=\"measured_angle\")\n",
    "pred = pd.Series(data=x.predict(a.to_frame())[:,0], index=a, name=\"predicted\")"
   ]
  },
  {
   "cell_type": "code",
   "execution_count": null,
   "id": "9bbec4fe",
   "metadata": {},
   "outputs": [],
   "source": [
    "dat.map(get_first_float).set_index([\"measured_angle\",\"instance\"]).unstack()[[\"measured_torque\",\"expected_torque\"]]"
   ]
  },
  {
   "cell_type": "code",
   "execution_count": null,
   "id": "ca8240fd",
   "metadata": {},
   "outputs": [],
   "source": [
    "p = dat.map(get_first_float).set_index([\"measured_angle\",\"instance\"]).unstack()[[\"measured_torque\",\"expected_torque\"]]\n",
    "ax = p[(\"measured_torque\",\"double_arm\")].dropna().plot(style=\".-\")\n",
    "ax = p[(\"measured_torque\",\"single_arm\")].dropna().plot(style=\".-\")\n",
    "ax = p[(\"measured_torque\",\"single_arm_2\")].dropna().plot(style=\".-\")\n",
    "ax = p[(\"measured_torque\",\"single_arm_3\")].dropna().plot(style=\".-\")\n",
    "ax = p[(\"measured_torque\",\"single_arm_4\")].dropna().plot(style=\".-\")\n",
    "\n",
    "#ax = p[(\"expected_torque\",\"double_arm\")].dropna().plot(style=\".-\")\n",
    "#ax = p[(\"expected_torque\",\"single_arm\")].dropna().plot(style=\".-\")\n",
    "#ax = p[(\"expected_torque\",\"single_arm_2\")].dropna().plot(style=\".-\")\n",
    "ax.legend()\n",
    "ax.set_ylabel(\"Nm\")\n",
    "\n",
    "# pred.plot(ax=ax)"
   ]
  },
  {
   "cell_type": "code",
   "execution_count": null,
   "id": "7d82c661",
   "metadata": {},
   "outputs": [],
   "source": [
    "p[\"measured_torque\"] / p[\"expected_torque\"]"
   ]
  },
  {
   "cell_type": "code",
   "execution_count": null,
   "id": "81a319a7",
   "metadata": {},
   "outputs": [],
   "source": [
    "test_angle_deg   = 180 * deg  # one full turn\n",
    "expected_torque = k_theoretical * test_angle_deg / deg_per_rad\n",
    "print(f\"Expected torque at {test_angle_deg}°: {expected_torque}\")"
   ]
  },
  {
   "cell_type": "code",
   "execution_count": null,
   "id": "c2754435",
   "metadata": {},
   "outputs": [],
   "source": [
    "# Calculate expected force at lever arm\n",
    "lever_arm_length = 0.27 * m\n",
    "#measured_force = 0.036 * kg\n",
    "measured_force = 0.017*kg\n",
    "measured_torque = measured_force * N_per_kg *lever_arm_length\n",
    "print(f\"Measured torque at 360 deg: {measured_torque}\")"
   ]
  },
  {
   "cell_type": "code",
   "execution_count": null,
   "id": "2e04636e",
   "metadata": {},
   "outputs": [],
   "source": [
    "expected_force = expected_torque / lever_arm_length / N_per_kg\n",
    "print(f\"Expected force at lever arm: {expected_force}\")"
   ]
  },
  {
   "cell_type": "code",
   "execution_count": null,
   "id": "281be7fe",
   "metadata": {},
   "outputs": [],
   "source": [
    "print(f\"Achieved {measured_torque/expected_torque*100:.1f} % of theoretical\")"
   ]
  },
  {
   "cell_type": "code",
   "execution_count": null,
   "id": "e272e4d1",
   "metadata": {},
   "outputs": [],
   "source": [
    "measured_spring_constant = measured_torque/(float(pi)*2 *rad)\n",
    "youngs_modulus_actual = symbols(\"E_x\")\n",
    "eq1 = Eq(\n",
    "    measured_spring_constant,\n",
    "    spring_constant(\n",
    "        youngs_modulus_actual, \n",
    "        strip_width*m,\n",
    "        thickness*m,\n",
    "        spring_length\n",
    "    ) / rad * 2\n",
    ")\n",
    "print(\"Actual Youngs Modulus\")\n",
    "solve(eq1, youngs_modulus_actual)"
   ]
  },
  {
   "cell_type": "code",
   "execution_count": null,
   "id": "56f5db45",
   "metadata": {},
   "outputs": [],
   "source": []
  }
 ],
 "metadata": {
  "kernelspec": {
   "display_name": "Python 3",
   "language": "python",
   "name": "python3"
  },
  "language_info": {
   "codemirror_mode": {
    "name": "ipython",
    "version": 3
   },
   "file_extension": ".py",
   "mimetype": "text/x-python",
   "name": "python",
   "nbconvert_exporter": "python",
   "pygments_lexer": "ipython3",
   "version": "3.13.3"
  }
 },
 "nbformat": 4,
 "nbformat_minor": 5
}
