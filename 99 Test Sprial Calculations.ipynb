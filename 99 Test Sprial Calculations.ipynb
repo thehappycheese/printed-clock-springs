{
 "cells": [
  {
   "cell_type": "code",
   "execution_count": null,
   "id": "72c01e10",
   "metadata": {},
   "outputs": [],
   "source": [
    "import numpy as np\n",
    "import matplotlib.pyplot as plt\n",
    "import matplotlib.patches as patch"
   ]
  },
  {
   "cell_type": "code",
   "execution_count": null,
   "id": "3f3d9fa0",
   "metadata": {},
   "outputs": [],
   "source": [
    "t = np.linspace(0,1, 400)\n",
    "radius_inner=20\n",
    "radius_outer=50\n",
    "radius_diff=radius_outer-radius_inner\n",
    "turns = 5"
   ]
  },
  {
   "cell_type": "code",
   "execution_count": null,
   "id": "99294192",
   "metadata": {},
   "outputs": [],
   "source": [
    "x = (radius_inner + radius_diff * t) * np.cos(np.pi*2*t*turns)\n",
    "y = (radius_inner + radius_diff * t) * np.sin(np.pi*2*t*turns)\n",
    "\n",
    "\n",
    "all_turns = radius_outer/radius_diff * turns\n",
    "angle_offset =-radius_inner/radius_outer*all_turns\n",
    "x_b = radius_outer * t * np.cos(np.pi*2*(t*all_turns + angle_offset))\n",
    "y_b = radius_outer * t * np.sin(np.pi*2*(t*all_turns + angle_offset))\n",
    "\n",
    "small_turns = radius_inner/radius_diff * turns\n",
    "angle_offset =-radius_inner/radius_outer*all_turns\n",
    "x_c = radius_inner * t * np.cos(np.pi*2*(t*small_turns + angle_offset))\n",
    "y_c = radius_inner * t * np.sin(np.pi*2*(t*small_turns + angle_offset))\n",
    "\n",
    "\n",
    "fig,axs = plt.subplots(1,2)\n",
    "fig.set_size_inches(10,10)\n",
    "axs[0].plot(x,y) \n",
    "axs[0].plot(x_c,y_c) \n",
    "axs[1].plot(x_b,y_b)\n",
    "for ax in axs:\n",
    "    ax.add_patch(patch.Circle((0,0), radius_inner, fill=False))\n",
    "    ax.add_patch(patch.Circle((0,0), radius_outer, fill=False))\n",
    "    ax.set_aspect(\"equal\")"
   ]
  },
  {
   "cell_type": "code",
   "execution_count": null,
   "id": "093c431d",
   "metadata": {},
   "outputs": [],
   "source": [
    "spiral_length_truncated(radius_inner, radius_outer,turns)"
   ]
  },
  {
   "cell_type": "code",
   "execution_count": null,
   "id": "8fd3a0af",
   "metadata": {},
   "outputs": [],
   "source": [
    "angle_from/np.pi*180/360"
   ]
  },
  {
   "cell_type": "code",
   "execution_count": null,
   "id": "9628b2a3",
   "metadata": {},
   "outputs": [],
   "source": [
    "leng/np.sqrt(np.diff(x)**2+np.diff(y)**2).sum()"
   ]
  }
 ],
 "metadata": {
  "kernelspec": {
   "display_name": "Python 3",
   "language": "python",
   "name": "python3"
  },
  "language_info": {
   "codemirror_mode": {
    "name": "ipython",
    "version": 3
   },
   "file_extension": ".py",
   "mimetype": "text/x-python",
   "name": "python",
   "nbconvert_exporter": "python",
   "pygments_lexer": "ipython3",
   "version": "3.13.3"
  }
 },
 "nbformat": 4,
 "nbformat_minor": 5
}
