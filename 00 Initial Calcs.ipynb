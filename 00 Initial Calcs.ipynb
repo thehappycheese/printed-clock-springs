{
 "cells": [
  {
   "cell_type": "code",
   "execution_count": null,
   "id": "1851c18a",
   "metadata": {},
   "outputs": [],
   "source": [
    "from util.numpy import (\n",
    "    spring_active_length,\n",
    "    spring_constant,\n",
    ")\n",
    "from sympy import symbols, pi, Eq, solve"
   ]
  },
  {
   "cell_type": "code",
   "execution_count": null,
   "id": "bb239092",
   "metadata": {},
   "outputs": [],
   "source": [
    "# Define symbolic variables\n",
    "N, kg, g, m, mm, rad, deg = symbols('N kg g m mm rad deg', real=True, positive=True)\n",
    "\n",
    "mm_per_m = 1000 * mm / m\n",
    "deg_per_rad = 180/float(pi) * deg/rad\n",
    "g_per_kg = 1000 * g / kg\n",
    "N_per_kg = 9.8 * N / kg\n",
    "Pa = N/m**2"
   ]
  },
  {
   "cell_type": "code",
   "execution_count": null,
   "id": "cf0ebd95",
   "metadata": {},
   "outputs": [],
   "source": [
    "# Given parameters (convert to meters)\n",
    "radius_inner = 0.010 # 10mm\n",
    "radius_outer = 0.050 # 50mm\n",
    "turns = 5\n",
    "thickness = 0.00195 # 1.95mm\n",
    "strip_width = 0.009 # 9mm"
   ]
  },
  {
   "cell_type": "code",
   "execution_count": null,
   "id": "fd7df4e6",
   "metadata": {},
   "outputs": [],
   "source": [
    "spring_length = spring_active_length(radius_inner, radius_outer, turns) * m\n",
    "print(f\"Estimated spring length: {spring_length}\")"
   ]
  },
  {
   "cell_type": "code",
   "execution_count": null,
   "id": "c31e7c54",
   "metadata": {},
   "outputs": [],
   "source": [
    "# Material properties - use estimate for PLA plastic\n",
    "# This is an assumption that will be calibrated later\n",
    "estimated_youngs_modulus = 3.5e9 * Pa  # (typical for PLA filament)\n",
    "\n",
    "k_theoretical = spring_constant(\n",
    "    estimated_youngs_modulus,\n",
    "    strip_width*m,\n",
    "    thickness*m,\n",
    "    spring_length\n",
    ") / rad\n",
    "print(f\"Theoretical spring constant: {k_theoretical}\")"
   ]
  },
  {
   "cell_type": "code",
   "execution_count": null,
   "id": "81a319a7",
   "metadata": {},
   "outputs": [],
   "source": [
    "test_angle_deg   = 360 * deg  # one full turn\n",
    "expected_torque = k_theoretical * test_angle_deg / deg_per_rad\n",
    "print(f\"Expected torque at {test_angle_deg}°: {expected_torque}\")"
   ]
  },
  {
   "cell_type": "code",
   "execution_count": null,
   "id": "c2754435",
   "metadata": {},
   "outputs": [],
   "source": [
    "# Calculate expected force at lever arm\n",
    "lever_arm_length = 0.27 * m\n",
    "measured_force = 0.032 * kg\n",
    "measured_torque = measured_force * N_per_kg *lever_arm_length\n",
    "print(f\"Measured torque at 360 deg: {measured_torque}\")"
   ]
  },
  {
   "cell_type": "code",
   "execution_count": null,
   "id": "2e04636e",
   "metadata": {},
   "outputs": [],
   "source": [
    "expected_force = expected_torque / lever_arm_length / N_per_kg\n",
    "print(f\"Expected force at lever arm: {expected_force}\")"
   ]
  },
  {
   "cell_type": "code",
   "execution_count": null,
   "id": "281be7fe",
   "metadata": {},
   "outputs": [],
   "source": [
    "print(f\"Achieved {measured_torque/expected_torque*100:.1f} % of theoretical\")"
   ]
  },
  {
   "cell_type": "code",
   "execution_count": null,
   "id": "e272e4d1",
   "metadata": {},
   "outputs": [],
   "source": [
    "# reverse the calculation to solve for youngs modulus\n",
    "\n",
    "measured_spring_constant = measured_torque/(float(pi)*2 *rad)\n",
    "measured_spring_constant"
   ]
  },
  {
   "cell_type": "code",
   "execution_count": null,
   "id": "e7bc2d7a",
   "metadata": {},
   "outputs": [],
   "source": [
    "youngs_modulus_actual = symbols(\"E_x\")\n",
    "eq1 = Eq(\n",
    "    measured_spring_constant,\n",
    "    spring_constant(\n",
    "        youngs_modulus_actual, \n",
    "        strip_width*m,\n",
    "        thickness*m,\n",
    "        spring_length\n",
    "    ) / rad\n",
    ")\n",
    "eq1"
   ]
  },
  {
   "cell_type": "code",
   "execution_count": null,
   "id": "a87550bc",
   "metadata": {},
   "outputs": [],
   "source": []
  }
 ],
 "metadata": {
  "kernelspec": {
   "display_name": "Python 3",
   "language": "python",
   "name": "python3"
  },
  "language_info": {
   "codemirror_mode": {
    "name": "ipython",
    "version": 3
   },
   "file_extension": ".py",
   "mimetype": "text/x-python",
   "name": "python",
   "nbconvert_exporter": "python",
   "pygments_lexer": "ipython3",
   "version": "3.13.3"
  }
 },
 "nbformat": 4,
 "nbformat_minor": 5
}
